{
 "cells": [
  {
   "cell_type": "code",
   "execution_count": 4,
   "id": "d4d086cd-49fc-4388-afd7-bd0697c2ea15",
   "metadata": {},
   "outputs": [],
   "source": [
    "import numpy as np\n",
    "import pandas as pd\n",
    "import os\n",
    "from glob import glob\n",
    "import cv2\n",
    "import itertools\n",
    "import matplotlib.pyplot as plt\n",
    "from sklearn.model_selection import train_test_split\n",
    "from sklearn.preprocessing import StandardScaler\n",
    "from sklearn.metrics import confusion_matrix, classification_report\n",
    "from tensorflow.keras.utils import to_categorical\n",
    "from tensorflow.keras.models import Sequential\n",
    "from tensorflow.keras.layers import Dense, Dropout, Activation, Flatten, BatchNormalization, Conv2D, MaxPooling2D\n",
    "from imblearn.under_sampling import RandomUnderSampler\n",
    "from tensorflow.keras.callbacks import Callback\n",
    "from tensorflow.keras.callbacks import EarlyStopping, ModelCheckpoint"
   ]
  },
  {
   "cell_type": "code",
   "execution_count": 5,
   "id": "659a7d26-1e95-4467-8350-fd4fec97cf0a",
   "metadata": {},
   "outputs": [],
   "source": [
    "imagePatches = glob('Users/abhivyaktisatti/Desktop/ML/archive/*/*/*.png', recursive=True)\n",
    "resized_images, labels_arr = [], []\n",
    "dsize = (50, 50)"
   ]
  },
  {
   "cell_type": "code",
   "execution_count": null,
   "id": "138a7d29-2efe-40ac-921d-7b21311aef84",
   "metadata": {},
   "outputs": [],
   "source": [
    "for img in imagePatches:\n",
    "    full_size_image = cv2.imread(img)\n",
    "    resized_images.append(cv2.resize(full_size_image, dsize, interpolation=cv2.INTER_CUBIC))\n",
    "    labels_arr.append(int(img[-5]))  # Assuming label is at position -5 in the file name\n"
   ]
  },
  {
   "cell_type": "code",
   "execution_count": null,
   "id": "2e37322b-2300-4d6a-bfde-fffe652b6529",
   "metadata": {},
   "outputs": [],
   "source": [
    "def describeData(a, b):\n",
    "    print('Total number of images: {}'.format(len(a)))\n",
    "    print('Number of Benign (0) Images: {}'.format(len(a) - np.sum(b)))\n",
    "    print('Number of Malignant (1) Images: {}'.format(np.sum(b)))\n",
    "    print('Image shape (Width, Height, Channels): {}'.format(a[0].shape))\n"
   ]
  },
  {
   "cell_type": "code",
   "execution_count": null,
   "id": "a564201f-45b3-44ca-bf44-ec9a6d272a85",
   "metadata": {},
   "outputs": [],
   "source": [
    "describeData(resized_images, labels_arr)\n"
   ]
  },
  {
   "cell_type": "code",
   "execution_count": null,
   "id": "e9969039-635b-4359-a290-cad1e5e8c30a",
   "metadata": {},
   "outputs": [],
   "source": [
    "X = np.array(resized_images) / 255.0\n",
    "Y = pd.Series(labels_arr)"
   ]
  },
  {
   "cell_type": "code",
   "execution_count": null,
   "id": "6a16591b-e3f2-4a4d-a5dd-ce9674e2283f",
   "metadata": {},
   "outputs": [],
   "source": [
    "X_train, X_test, Y_train, Y_test = train_test_split(X, Y, test_size=0.3)\n",
    "print(\"Training Data Shape:\", X_train.shape)\n",
    "print(\"Testing Data Shape:\", X_test.shape)"
   ]
  },
  {
   "cell_type": "code",
   "execution_count": null,
   "id": "a2e84bb1-2669-43d8-81ce-c94dc7f2df2e",
   "metadata": {},
   "outputs": [],
   "source": [
    "Rus = RandomUnderSampler(sampling_strategy='auto')\n",
    "X_trainRusFlat, Y_trainRus = Rus.fit_resample(X_train.reshape(X_train.shape[0], -1), Y_train)\n",
    "X_testRusFlat, Y_testRus = Rus.fit_resample(X_test.reshape(X_test.shape[0], -1), Y_test)\n"
   ]
  },
  {
   "cell_type": "code",
   "execution_count": null,
   "id": "73a75ec8-8c5c-48c2-a9c8-9954bf06f6cf",
   "metadata": {},
   "outputs": [],
   "source": [
    "X_trainRus = X_trainRusFlat.reshape(len(X_trainRusFlat), 50, 50, 3)\n",
    "X_testRus = X_testRusFlat.reshape(len(X_testRusFlat), 50, 50, 3)\n"
   ]
  }
 ],
 "metadata": {
  "kernelspec": {
   "display_name": "Python 3 (ipykernel)",
   "language": "python",
   "name": "python3"
  },
  "language_info": {
   "codemirror_mode": {
    "name": "ipython",
    "version": 3
   },
   "file_extension": ".py",
   "mimetype": "text/x-python",
   "name": "python",
   "nbconvert_exporter": "python",
   "pygments_lexer": "ipython3",
   "version": "3.9.6"
  }
 },
 "nbformat": 4,
 "nbformat_minor": 5
}
